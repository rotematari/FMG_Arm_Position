{
 "cells": [
  {
   "cell_type": "code",
   "execution_count": 4,
   "metadata": {},
   "outputs": [],
   "source": [
    "feature_impotance_scores = [1.39, 4.93, 12.82, 0.99, 3.37, 7.88, 0.5, 5.88,\n",
    "                                9.52, 4.94, 0.89, 1.25, 0.07, 0.01, 0.66, 1.58, \n",
    "                                0.99, 2.36, 1.63, 6.49, 8.23, 1.07, 0.94, 4.65,\n",
    "                                0.62, 1.18, 1.07, 1.16, 1.11, 0.91, 0.49, 13.35]\n",
    "\n"
   ]
  },
  {
   "cell_type": "code",
   "execution_count": 25,
   "metadata": {},
   "outputs": [],
   "source": [
    "import numpy as np\n",
    "avg_wrist_errors = []\n",
    "epochs = []\n",
    "for i in range(5):\n",
    "    avg_wrist_error = 5*i\n",
    "    avg_wrist_errors = np.append(avg_wrist_errors,avg_wrist_error)\n",
    "    epochs.append(i)\n",
    "    results = {\n",
    "                \"wrist_error\": avg_wrist_errors,\n",
    "                \"epochs\": epochs,\n",
    "            }"
   ]
  },
  {
   "cell_type": "code",
   "execution_count": 26,
   "metadata": {},
   "outputs": [
    {
     "name": "stdout",
     "output_type": "stream",
     "text": [
      "0\n",
      "0.0\n",
      "[0, 1, 2, 3, 4]\n"
     ]
    }
   ],
   "source": [
    "best = np.argmin(results[\"wrist_error\"])\n",
    "print(best)\n",
    "print(results[\"wrist_error\"][best])\n",
    "print(results[\"epochs\"])\n"
   ]
  },
  {
   "cell_type": "code",
   "execution_count": 8,
   "metadata": {},
   "outputs": [
    {
     "name": "stdout",
     "output_type": "stream",
     "text": [
      "[ 4.93 12.82  7.88  5.88  9.52  4.94  6.49  8.23  4.65 13.35]\n",
      "10\n"
     ]
    }
   ],
   "source": [
    "import numpy as np\n",
    "\n",
    "filtered_scores = np.array(feature_impotance_scores)\n",
    "filtered_scores = filtered_scores[filtered_scores > 4]\n",
    "\n",
    "print(filtered_scores)\n",
    "print(filtered_scores.shape[0])"
   ]
  },
  {
   "cell_type": "code",
   "execution_count": 22,
   "metadata": {},
   "outputs": [],
   "source": [
    "feature_impotance_scores_dict ={\n",
    "    1: 1.39, 2: 4.93, 3: 12.82, 4: 0.99, 5: 3.37, 6: 7.88, 7: 0.5, 8: 5.88,\n",
    "    9: 9.52, 10: 4.94, 11: 0.89, 12: 1.25, 13: 0.07, 14: 0.01, 15: 0.66, 16: 1.58,\n",
    "    17: 0.99, 18: 2.36, 19: 1.63, 20: 6.49, 21: 8.23, 22: 1.07, 23: 0.94, 24: 4.65,\n",
    "    25: 0.62, 26: 1.18, 27: 1.07, 28: 1.16, 29: 1.11, 30: 0.91, 31: 0.49, 32: 13.35\n",
    "    }\n",
    "sensor_mapping = {\n",
    "    1: 0, 2: 3, 3: 2, 4: 1, 5: 20, 6: 21, 7: 25, 8: 23, 9: 22, 10: 24,\n",
    "    11: 8, 12: 9, 13: 6, 14: 7, 15: 4, 16: 5, 17: 12, 18: 13, 19: 15,\n",
    "    20: 14, 21: 31, 22: 11, 23: 10, 24: 28, 25: 29, 26: 30, 27: 16,\n",
    "    28: 26, 29: 27, 30: 19, 31: 18, 32: 17\n",
    "}"
   ]
  },
  {
   "cell_type": "code",
   "execution_count": 20,
   "metadata": {},
   "outputs": [
    {
     "data": {
      "text/plain": [
       "20"
      ]
     },
     "execution_count": 20,
     "metadata": {},
     "output_type": "execute_result"
    }
   ],
   "source": [
    "sensor_mapping[1]"
   ]
  },
  {
   "cell_type": "code",
   "execution_count": 34,
   "metadata": {},
   "outputs": [
    {
     "name": "stdout",
     "output_type": "stream",
     "text": [
      "1 1.39\n",
      "sensor_mapping[k]:  0\n",
      "feature_impotance_scores_dict[sensor_mapping[k]+1]:  1.39\n",
      "2 4.93\n",
      "sensor_mapping[k]:  3\n",
      "feature_impotance_scores_dict[sensor_mapping[k]+1]:  0.99\n",
      "3 12.82\n",
      "sensor_mapping[k]:  2\n",
      "feature_impotance_scores_dict[sensor_mapping[k]+1]:  12.82\n",
      "4 0.99\n",
      "sensor_mapping[k]:  1\n",
      "feature_impotance_scores_dict[sensor_mapping[k]+1]:  4.93\n",
      "5 3.37\n",
      "sensor_mapping[k]:  20\n",
      "feature_impotance_scores_dict[sensor_mapping[k]+1]:  8.23\n",
      "6 7.88\n",
      "sensor_mapping[k]:  21\n",
      "feature_impotance_scores_dict[sensor_mapping[k]+1]:  1.07\n",
      "7 0.5\n",
      "sensor_mapping[k]:  25\n",
      "feature_impotance_scores_dict[sensor_mapping[k]+1]:  1.18\n",
      "8 5.88\n",
      "sensor_mapping[k]:  23\n",
      "feature_impotance_scores_dict[sensor_mapping[k]+1]:  4.65\n",
      "9 9.52\n",
      "sensor_mapping[k]:  22\n",
      "feature_impotance_scores_dict[sensor_mapping[k]+1]:  0.94\n",
      "10 4.94\n",
      "sensor_mapping[k]:  24\n",
      "feature_impotance_scores_dict[sensor_mapping[k]+1]:  0.62\n",
      "11 0.89\n",
      "sensor_mapping[k]:  8\n",
      "feature_impotance_scores_dict[sensor_mapping[k]+1]:  9.52\n",
      "12 1.25\n",
      "sensor_mapping[k]:  9\n",
      "feature_impotance_scores_dict[sensor_mapping[k]+1]:  4.94\n",
      "13 0.07\n",
      "sensor_mapping[k]:  6\n",
      "feature_impotance_scores_dict[sensor_mapping[k]+1]:  0.5\n",
      "14 0.01\n",
      "sensor_mapping[k]:  7\n",
      "feature_impotance_scores_dict[sensor_mapping[k]+1]:  5.88\n",
      "15 0.66\n",
      "sensor_mapping[k]:  4\n",
      "feature_impotance_scores_dict[sensor_mapping[k]+1]:  3.37\n",
      "16 1.58\n",
      "sensor_mapping[k]:  5\n",
      "feature_impotance_scores_dict[sensor_mapping[k]+1]:  7.88\n",
      "17 0.99\n",
      "sensor_mapping[k]:  12\n",
      "feature_impotance_scores_dict[sensor_mapping[k]+1]:  0.07\n",
      "18 2.36\n",
      "sensor_mapping[k]:  13\n",
      "feature_impotance_scores_dict[sensor_mapping[k]+1]:  0.01\n",
      "19 1.63\n",
      "sensor_mapping[k]:  15\n",
      "feature_impotance_scores_dict[sensor_mapping[k]+1]:  1.58\n",
      "20 6.49\n",
      "sensor_mapping[k]:  14\n",
      "feature_impotance_scores_dict[sensor_mapping[k]+1]:  0.66\n",
      "21 8.23\n",
      "sensor_mapping[k]:  31\n",
      "feature_impotance_scores_dict[sensor_mapping[k]+1]:  13.35\n",
      "22 1.07\n",
      "sensor_mapping[k]:  11\n",
      "feature_impotance_scores_dict[sensor_mapping[k]+1]:  1.25\n",
      "23 0.94\n",
      "sensor_mapping[k]:  10\n",
      "feature_impotance_scores_dict[sensor_mapping[k]+1]:  0.89\n",
      "24 4.65\n",
      "sensor_mapping[k]:  28\n",
      "feature_impotance_scores_dict[sensor_mapping[k]+1]:  1.11\n",
      "25 0.62\n",
      "sensor_mapping[k]:  29\n",
      "feature_impotance_scores_dict[sensor_mapping[k]+1]:  0.91\n",
      "26 1.18\n",
      "sensor_mapping[k]:  30\n",
      "feature_impotance_scores_dict[sensor_mapping[k]+1]:  0.49\n",
      "27 1.07\n",
      "sensor_mapping[k]:  16\n",
      "feature_impotance_scores_dict[sensor_mapping[k]+1]:  0.99\n",
      "28 1.16\n",
      "sensor_mapping[k]:  26\n",
      "feature_impotance_scores_dict[sensor_mapping[k]+1]:  1.07\n",
      "29 1.11\n",
      "sensor_mapping[k]:  27\n",
      "feature_impotance_scores_dict[sensor_mapping[k]+1]:  1.16\n",
      "30 0.91\n",
      "sensor_mapping[k]:  19\n",
      "feature_impotance_scores_dict[sensor_mapping[k]+1]:  6.49\n",
      "31 0.49\n",
      "sensor_mapping[k]:  18\n",
      "feature_impotance_scores_dict[sensor_mapping[k]+1]:  1.63\n",
      "32 13.35\n",
      "sensor_mapping[k]:  17\n",
      "feature_impotance_scores_dict[sensor_mapping[k]+1]:  2.36\n"
     ]
    }
   ],
   "source": [
    "mapped_feature_impotance_scores = {}\n",
    "for k,v in feature_impotance_scores_dict.items():\n",
    "    print(k,v)\n",
    "    print(\"sensor_mapping[k]: \", sensor_mapping[k])\n",
    "    print(\"feature_impotance_scores_dict[sensor_mapping[k]+1]: \", feature_impotance_scores_dict[sensor_mapping[k]+1])\n",
    "    mapped_feature_impotance_scores[k] = feature_impotance_scores_dict[sensor_mapping[k]+ 1]"
   ]
  },
  {
   "cell_type": "code",
   "execution_count": 1,
   "metadata": {},
   "outputs": [
    {
     "ename": "NameError",
     "evalue": "name 'mapped_feature_impotance_scores' is not defined",
     "output_type": "error",
     "traceback": [
      "\u001b[0;31m---------------------------------------------------------------------------\u001b[0m",
      "\u001b[0;31mNameError\u001b[0m                                 Traceback (most recent call last)",
      "Cell \u001b[0;32mIn[1], line 2\u001b[0m\n\u001b[1;32m      1\u001b[0m sensors_to_use \u001b[38;5;241m=\u001b[39m []\n\u001b[0;32m----> 2\u001b[0m \u001b[38;5;28;01mfor\u001b[39;00m k,v \u001b[38;5;129;01min\u001b[39;00m \u001b[43mmapped_feature_impotance_scores\u001b[49m\u001b[38;5;241m.\u001b[39mitems():\n\u001b[1;32m      3\u001b[0m     \u001b[38;5;28;01mif\u001b[39;00m v \u001b[38;5;241m>\u001b[39m \u001b[38;5;241m1.3\u001b[39m:\n\u001b[1;32m      4\u001b[0m         sensors_to_use\u001b[38;5;241m.\u001b[39mappend(k)\n",
      "\u001b[0;31mNameError\u001b[0m: name 'mapped_feature_impotance_scores' is not defined"
     ]
    }
   ],
   "source": [
    "sensors_to_use = []\n",
    "for k,v in mapped_feature_impotance_scores.items():\n",
    "    if v > 1.3:\n",
    "        sensors_to_use.append(k)\n",
    "sensors_to_use"
   ]
  },
  {
   "cell_type": "code",
   "execution_count": 2,
   "metadata": {},
   "outputs": [
    {
     "data": {
      "text/plain": [
       "'ray_tune_results_fe/scale/5'"
      ]
     },
     "execution_count": 2,
     "metadata": {},
     "output_type": "execute_result"
    }
   ],
   "source": [
    "import os\n",
    "os.path.join(\"ray_tune_results_fe\", \"scale\",\"5\")"
   ]
  }
 ],
 "metadata": {
  "kernelspec": {
   "display_name": ".venv",
   "language": "python",
   "name": "python3"
  },
  "language_info": {
   "codemirror_mode": {
    "name": "ipython",
    "version": 3
   },
   "file_extension": ".py",
   "mimetype": "text/x-python",
   "name": "python",
   "nbconvert_exporter": "python",
   "pygments_lexer": "ipython3",
   "version": "3.10.12"
  }
 },
 "nbformat": 4,
 "nbformat_minor": 2
}
